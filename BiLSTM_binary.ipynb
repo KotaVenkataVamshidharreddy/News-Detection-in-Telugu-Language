{
 "cells": [
  {
   "cell_type": "code",
   "execution_count": 1,
   "metadata": {},
   "outputs": [
    {
     "name": "stdout",
     "output_type": "stream",
     "text": [
      "Using device: cuda\n",
      "Sun May  4 09:13:46 2025       \n",
      "+-----------------------------------------------------------------------------------------+\n",
      "| NVIDIA-SMI 566.14                 Driver Version: 566.14         CUDA Version: 12.7     |\n",
      "|-----------------------------------------+------------------------+----------------------+\n",
      "| GPU  Name                  Driver-Model | Bus-Id          Disp.A | Volatile Uncorr. ECC |\n",
      "| Fan  Temp   Perf          Pwr:Usage/Cap |           Memory-Usage | GPU-Util  Compute M. |\n",
      "|                                         |                        |               MIG M. |\n",
      "|=========================================+========================+======================|\n",
      "|   0  NVIDIA GeForce GTX 1650      WDDM  |   00000000:01:00.0 Off |                  N/A |\n",
      "| N/A   45C    P8              6W /   85W |       0MiB /   4096MiB |      0%      Default |\n",
      "|                                         |                        |                  N/A |\n",
      "+-----------------------------------------+------------------------+----------------------+\n",
      "                                                                                         \n",
      "+-----------------------------------------------------------------------------------------+\n",
      "| Processes:                                                                              |\n",
      "|  GPU   GI   CI        PID   Type   Process name                              GPU Memory |\n",
      "|        ID   ID                                                               Usage      |\n",
      "|=========================================================================================|\n",
      "|  No running processes found                                                             |\n",
      "+-----------------------------------------------------------------------------------------+\n"
     ]
    }
   ],
   "source": [
    "import torch\n",
    "\n",
    "# Check if GPU is available\n",
    "device = torch.device(\"cuda\" if torch.cuda.is_available() else \"cpu\")\n",
    "print(\"Using device:\", device)\n",
    "\n",
    "# Check GPU details\n",
    "!nvidia-smi\n"
   ]
  },
  {
   "cell_type": "code",
   "execution_count": 2,
   "metadata": {},
   "outputs": [
    {
     "name": "stderr",
     "output_type": "stream",
     "text": [
      "Epoch 1: 100%|██████████| 50/50 [00:01<00:00, 45.65it/s]\n"
     ]
    },
    {
     "name": "stdout",
     "output_type": "stream",
     "text": [
      "Epoch 1 - Train Acc: 0.5114, Val Acc: 0.5114\n"
     ]
    },
    {
     "name": "stderr",
     "output_type": "stream",
     "text": [
      "Epoch 2: 100%|██████████| 50/50 [00:00<00:00, 119.61it/s]\n"
     ]
    },
    {
     "name": "stdout",
     "output_type": "stream",
     "text": [
      "Epoch 2 - Train Acc: 0.5682, Val Acc: 0.5568\n"
     ]
    },
    {
     "name": "stderr",
     "output_type": "stream",
     "text": [
      "Epoch 3: 100%|██████████| 50/50 [00:00<00:00, 113.06it/s]\n"
     ]
    },
    {
     "name": "stdout",
     "output_type": "stream",
     "text": [
      "Epoch 3 - Train Acc: 0.6168, Val Acc: 0.5852\n"
     ]
    },
    {
     "name": "stderr",
     "output_type": "stream",
     "text": [
      "Epoch 4: 100%|██████████| 50/50 [00:00<00:00, 118.55it/s]\n"
     ]
    },
    {
     "name": "stdout",
     "output_type": "stream",
     "text": [
      "Epoch 4 - Train Acc: 0.6547, Val Acc: 0.6023\n"
     ]
    },
    {
     "name": "stderr",
     "output_type": "stream",
     "text": [
      "Epoch 5: 100%|██████████| 50/50 [00:00<00:00, 148.34it/s]\n"
     ]
    },
    {
     "name": "stdout",
     "output_type": "stream",
     "text": [
      "Epoch 5 - Train Acc: 0.6900, Val Acc: 0.6023\n"
     ]
    },
    {
     "name": "stderr",
     "output_type": "stream",
     "text": [
      "Epoch 6: 100%|██████████| 50/50 [00:00<00:00, 87.00it/s]\n"
     ]
    },
    {
     "name": "stdout",
     "output_type": "stream",
     "text": [
      "Epoch 6 - Train Acc: 0.7216, Val Acc: 0.6875\n"
     ]
    },
    {
     "name": "stderr",
     "output_type": "stream",
     "text": [
      "Epoch 7: 100%|██████████| 50/50 [00:00<00:00, 125.82it/s]\n"
     ]
    },
    {
     "name": "stdout",
     "output_type": "stream",
     "text": [
      "Epoch 7 - Train Acc: 0.7778, Val Acc: 0.8011\n"
     ]
    },
    {
     "name": "stderr",
     "output_type": "stream",
     "text": [
      "Epoch 8: 100%|██████████| 50/50 [00:00<00:00, 149.23it/s]\n"
     ]
    },
    {
     "name": "stdout",
     "output_type": "stream",
     "text": [
      "Epoch 8 - Train Acc: 0.8213, Val Acc: 0.7670\n"
     ]
    },
    {
     "name": "stderr",
     "output_type": "stream",
     "text": [
      "Epoch 9: 100%|██████████| 50/50 [00:00<00:00, 117.35it/s]\n"
     ]
    },
    {
     "name": "stdout",
     "output_type": "stream",
     "text": [
      "Epoch 9 - Train Acc: 0.8321, Val Acc: 0.8466\n"
     ]
    },
    {
     "name": "stderr",
     "output_type": "stream",
     "text": [
      "Epoch 10: 100%|██████████| 50/50 [00:00<00:00, 111.64it/s]\n"
     ]
    },
    {
     "name": "stdout",
     "output_type": "stream",
     "text": [
      "Epoch 10 - Train Acc: 0.8668, Val Acc: 0.8864\n"
     ]
    },
    {
     "name": "stderr",
     "output_type": "stream",
     "text": [
      "Epoch 11: 100%|██████████| 50/50 [00:00<00:00, 125.07it/s]\n"
     ]
    },
    {
     "name": "stdout",
     "output_type": "stream",
     "text": [
      "Epoch 11 - Train Acc: 0.8807, Val Acc: 0.8864\n"
     ]
    },
    {
     "name": "stderr",
     "output_type": "stream",
     "text": [
      "Epoch 12: 100%|██████████| 50/50 [00:00<00:00, 156.38it/s]\n"
     ]
    },
    {
     "name": "stdout",
     "output_type": "stream",
     "text": [
      "Epoch 12 - Train Acc: 0.8984, Val Acc: 0.8807\n"
     ]
    },
    {
     "name": "stderr",
     "output_type": "stream",
     "text": [
      "Epoch 13: 100%|██████████| 50/50 [00:00<00:00, 138.36it/s]\n"
     ]
    },
    {
     "name": "stdout",
     "output_type": "stream",
     "text": [
      "Epoch 13 - Train Acc: 0.9167, Val Acc: 0.9034\n"
     ]
    },
    {
     "name": "stderr",
     "output_type": "stream",
     "text": [
      "Epoch 14: 100%|██████████| 50/50 [00:00<00:00, 129.32it/s]\n"
     ]
    },
    {
     "name": "stdout",
     "output_type": "stream",
     "text": [
      "Epoch 14 - Train Acc: 0.9287, Val Acc: 0.9034\n"
     ]
    },
    {
     "name": "stderr",
     "output_type": "stream",
     "text": [
      "Epoch 15: 100%|██████████| 50/50 [00:00<00:00, 150.15it/s]\n"
     ]
    },
    {
     "name": "stdout",
     "output_type": "stream",
     "text": [
      "Epoch 15 - Train Acc: 0.9495, Val Acc: 0.9091\n",
      "\n",
      "Classification Report:\n",
      "              precision    recall  f1-score   support\n",
      "\n",
      "    MAN_MADE       0.84      0.91      0.87       221\n",
      "     NATURAL       0.90      0.82      0.86       219\n",
      "\n",
      "    accuracy                           0.87       440\n",
      "   macro avg       0.87      0.87      0.87       440\n",
      "weighted avg       0.87      0.87      0.87       440\n",
      "\n"
     ]
    },
    {
     "data": {
      "image/png": "[encoded data removed]",
      "text/plain": [
       "<Figure size 640x480 with 2 Axes>"
      ]
     },
     "metadata": {},
     "output_type": "display_data"
    },
    {
     "data": {
      "image/png": "[encoded data removed]",
      "text/plain": [
       "<Figure size 640x480 with 1 Axes>"
      ]
     },
     "metadata": {},
     "output_type": "display_data"
    },
    {
     "name": "stdout",
     "output_type": "stream",
     "text": [
      "MAN_MADE\n"
     ]
    }
   ],
   "source": [
    "# 1. Import Libraries\n",
    "import pandas as pd\n",
    "import torch\n",
    "import torch.nn as nn\n",
    "from torch.utils.data import Dataset, DataLoader\n",
    "from sklearn.model_selection import train_test_split\n",
    "from sklearn.preprocessing import LabelEncoder\n",
    "from sklearn.metrics import classification_report, confusion_matrix, roc_curve, auc\n",
    "import matplotlib.pyplot as plt\n",
    "import seaborn as sns\n",
    "from tqdm import tqdm\n",
    "from collections import Counter\n",
    "import os\n",
    "\n",
    "# 2. Load Data\n",
    "df = pd.read_json(\"./data/processed/te/train.json\", lines=True)\n",
    "\n",
    "# 3. Extract Text and Binary Labels\n",
    "X_texts = df[\"tokens\"].apply(lambda x: \" \".join(x)).tolist()\n",
    "y_labels = df[\"labels\"].apply(lambda x: list(x.keys())[0])\n",
    "\n",
    "def label_to_binary(label):\n",
    "    return \"MAN_MADE\" if \"MAN_MADE_EVENT\" in label else \"NATURAL\"\n",
    "\n",
    "y_binary = [label_to_binary(label) for label in y_labels]\n",
    "label_encoder = LabelEncoder()\n",
    "y_encoded = label_encoder.fit_transform(y_binary)  # 0 = MAN_MADE, 1 = NATURAL\n",
    "\n",
    "# 4. Build Custom Vocabulary\n",
    "def build_vocab(texts, min_freq=1):\n",
    "    counter = Counter()\n",
    "    for sentence in texts:\n",
    "        tokens = sentence.strip().split()\n",
    "        counter.update(tokens)\n",
    "    vocab = {\"<PAD>\": 0, \"<UNK>\": 1}\n",
    "    for word, freq in counter.items():\n",
    "        if freq >= min_freq:\n",
    "            vocab[word] = len(vocab)\n",
    "    return vocab\n",
    "\n",
    "vocab = build_vocab(X_texts)\n",
    "vocab_size = len(vocab)\n",
    "\n",
    "# 5. Encode Texts to Indices\n",
    "def encode_texts(texts, vocab, max_len=100):\n",
    "    encoded_inputs = []\n",
    "    for text in texts:\n",
    "        tokens = text.strip().split()\n",
    "        ids = [vocab.get(tok, vocab[\"<UNK>\"]) for tok in tokens[:max_len]]\n",
    "        padded = ids + [vocab[\"<PAD>\"]] * (max_len - len(ids))\n",
    "        encoded_inputs.append(padded)\n",
    "    return torch.tensor(encoded_inputs)\n",
    "\n",
    "X_encoded = encode_texts(X_texts, vocab, max_len=100)\n",
    "\n",
    "# 6. Train-Validation-Test Split\n",
    "X_temp, X_test, y_temp, y_test = train_test_split(X_encoded, y_encoded, test_size=0.2, random_state=42)\n",
    "X_train, X_val, y_train, y_val = train_test_split(X_temp, y_temp, test_size=0.1, random_state=42)\n",
    "\n",
    "# 7. Dataset and DataLoader\n",
    "class CustomDataset(Dataset):\n",
    "    def __init__(self, inputs, labels):\n",
    "        self.inputs = inputs\n",
    "        self.labels = torch.tensor(labels, dtype=torch.float32)\n",
    "\n",
    "    def __len__(self):\n",
    "        return len(self.labels)\n",
    "\n",
    "    def __getitem__(self, idx):\n",
    "        return self.inputs[idx], self.labels[idx]\n",
    "\n",
    "train_loader = DataLoader(CustomDataset(X_train, y_train), batch_size=32, shuffle=True)\n",
    "val_loader = DataLoader(CustomDataset(X_val, y_val), batch_size=32)\n",
    "test_loader = DataLoader(CustomDataset(X_test, y_test), batch_size=32)\n",
    "\n",
    "# 8. BiLSTM Model with Custom Embeddings\n",
    "class BiLSTMClassifier(nn.Module):\n",
    "    def __init__(self, vocab_size, embed_dim, hidden_dim):\n",
    "        super().__init__()\n",
    "        self.embedding = nn.Embedding(vocab_size, embed_dim, padding_idx=0)\n",
    "        self.lstm = nn.LSTM(embed_dim, hidden_dim, bidirectional=True, batch_first=True)\n",
    "        self.dropout = nn.Dropout(0.3)\n",
    "        self.fc = nn.Linear(hidden_dim * 2, 1)\n",
    "\n",
    "    def forward(self, x):\n",
    "        embeds = self.embedding(x)\n",
    "        lstm_out, _ = self.lstm(embeds)\n",
    "        pooled = lstm_out[:, -1, :]  # Take the last hidden state\n",
    "        out = self.dropout(pooled)\n",
    "        return self.fc(out).squeeze()\n",
    "\n",
    "# 9. Setup Training\n",
    "device = torch.device(\"cuda\" if torch.cuda.is_available() else \"cpu\")\n",
    "model = BiLSTMClassifier(vocab_size=vocab_size, embed_dim=128, hidden_dim=64).to(device)\n",
    "\n",
    "counter = Counter(y_train)\n",
    "neg, pos = counter[0], counter[1]\n",
    "pos_weight = torch.tensor([neg / pos], dtype=torch.float32).to(device)\n",
    "\n",
    "criterion = nn.BCEWithLogitsLoss(pos_weight=pos_weight)\n",
    "optimizer = torch.optim.Adam(model.parameters(), lr=2e-4)\n",
    "\n",
    "# 10. Train Model\n",
    "for epoch in range(15):\n",
    "    model.train()\n",
    "    train_correct = 0\n",
    "    for inputs, labels in tqdm(train_loader, desc=f\"Epoch {epoch+1}\"):\n",
    "        inputs, labels = inputs.to(device), labels.to(device)\n",
    "        optimizer.zero_grad()\n",
    "        logits = model(inputs)\n",
    "        loss = criterion(logits, labels)\n",
    "        loss.backward()\n",
    "        optimizer.step()\n",
    "        preds = (torch.sigmoid(logits) > 0.5).float()\n",
    "        train_correct += (preds == labels).sum().item()\n",
    "\n",
    "    train_acc = train_correct / len(train_loader.dataset)\n",
    "\n",
    "    # Validation Accuracy\n",
    "    model.eval()\n",
    "    val_correct = 0\n",
    "    with torch.no_grad():\n",
    "        for inputs, labels in val_loader:\n",
    "            inputs, labels = inputs.to(device), labels.to(device)\n",
    "            logits = model(inputs)\n",
    "            preds = (torch.sigmoid(logits) > 0.5).float()\n",
    "            val_correct += (preds == labels).sum().item()\n",
    "    val_acc = val_correct / len(val_loader.dataset)\n",
    "\n",
    "    print(f\"Epoch {epoch+1} - Train Acc: {train_acc:.4f}, Val Acc: {val_acc:.4f}\")\n",
    "\n",
    "# 11. Save Model\n",
    "os.makedirs(\"./model\", exist_ok=True)\n",
    "torch.save(model.state_dict(), \"./model/bilstm_binary_custom.pth\")\n",
    "\n",
    "# 12. Evaluation\n",
    "model.eval()\n",
    "all_logits, all_preds, all_labels = [], [], []\n",
    "\n",
    "with torch.no_grad():\n",
    "    for inputs, labels in test_loader:\n",
    "        inputs = inputs.to(device)\n",
    "        logits = model(inputs)\n",
    "        probs = torch.sigmoid(logits).cpu()\n",
    "        preds = (probs > 0.5).int()\n",
    "        all_logits.extend(probs.numpy())\n",
    "        all_preds.extend(preds.numpy())\n",
    "        all_labels.extend(labels.numpy())\n",
    "\n",
    "# Classification Report\n",
    "print(\"\\nClassification Report:\")\n",
    "print(classification_report(all_labels, all_preds, target_names=label_encoder.classes_))\n",
    "\n",
    "# Confusion Matrix\n",
    "cm = confusion_matrix(all_labels, all_preds)\n",
    "sns.heatmap(cm, annot=True, fmt=\"d\", cmap=\"Blues\", xticklabels=label_encoder.classes_, yticklabels=label_encoder.classes_)\n",
    "plt.xlabel(\"Predicted\")\n",
    "plt.ylabel(\"Actual\")\n",
    "plt.title(\"Confusion Matrix\")\n",
    "plt.show()\n",
    "\n",
    "# ROC Curve\n",
    "fpr, tpr, _ = roc_curve(all_labels, all_logits)\n",
    "roc_auc = auc(fpr, tpr)\n",
    "plt.plot(fpr, tpr, label=f\"AUC = {roc_auc:.2f}\")\n",
    "plt.plot([0, 1], [0, 1], 'k--')\n",
    "plt.xlabel(\"False Positive Rate\")\n",
    "plt.ylabel(\"True Positive Rate\")\n",
    "plt.title(\"ROC Curve\")\n",
    "plt.legend()\n",
    "plt.show()\n",
    "\n",
    "# 13. Prediction Function (Custom Tokenizer)\n",
    "def predict_event(text):\n",
    "    model.eval()\n",
    "    tokens = text.strip().split()\n",
    "    ids = [vocab.get(tok, vocab[\"<UNK>\"]) for tok in tokens[:100]]\n",
    "    padded = ids + [vocab[\"<PAD>\"]] * (100 - len(ids))\n",
    "    input_tensor = torch.tensor([padded]).to(device)\n",
    "    with torch.no_grad():\n",
    "        logit = model(input_tensor)\n",
    "        prob = torch.sigmoid(logit).item()\n",
    "    return \"MAN_MADE\" if prob < 0.5 else \"NATURAL\"\n",
    "\n",
    "# Test\n",
    "print(predict_event(\"భూకంపం సంభవించింది.\"))\n"
   ]
  },
  {
   "cell_type": "code",
   "execution_count": 3,
   "metadata": {},
   "outputs": [
    {
     "name": "stdout",
     "output_type": "stream",
     "text": [
      "MAN_MADE\n",
      "MAN_MADE\n"
     ]
    }
   ],
   "source": [
    "# 14. Prediction Function\n",
    "def predict_event(text):\n",
    "    model.eval()\n",
    "    tokens = text.strip().split()\n",
    "    ids = [vocab.get(tok, vocab[\"<UNK>\"]) for tok in tokens[:100]]\n",
    "    padded = ids + [vocab[\"<PAD>\"]] * (100 - len(ids))\n",
    "    input_tensor = torch.tensor([padded]).to(device)\n",
    "    with torch.no_grad():\n",
    "        logit = model(input_tensor)\n",
    "        prob = torch.sigmoid(logit).item()\n",
    "    return \"MAN_MADE\" if prob < 0.5 else \"NATURAL\"\n",
    "\n",
    "# Test Predictions\n",
    "print(predict_event(\"భూకంపం సంభవించింది.\"))\n",
    "print(predict_event(\"ఫ్యాక్టరీలో పేలుడు జరిగింది.\"))"
   ]
  },
  {
   "cell_type": "code",
   "execution_count": 8,
   "metadata": {},
   "outputs": [],
   "source": [
    "import pickle\n",
    "\n",
    "binary_vocab = {\n",
    "    \"token2idx\": vocab  # your vocab built using build_vocab()\n",
    "}\n",
    "\n",
    "with open(\"./model/binary_vocab.pkl\", \"wb\") as f:\n",
    "    pickle.dump(binary_vocab, f)\n"
   ]
  },
  {
   "cell_type": "code",
   "execution_count": null,
   "metadata": {},
   "outputs": [
    {
     "name": "stderr",
     "output_type": "stream",
     "text": [
      "C:\\Users\\kotav\\AppData\\Local\\Temp\\ipykernel_13492\\2563989612.py:29: FutureWarning: You are using `torch.load` with `weights_only=False` (the current default value), which uses the default pickle module implicitly. It is possible to construct malicious pickle data which will execute arbitrary code during unpickling (See https://github.com/pytorch/pytorch/blob/main/SECURITY.md#untrusted-models for more details). In a future release, the default value for `weights_only` will be flipped to `True`. This limits the functions that could be executed during unpickling. Arbitrary objects will no longer be allowed to be loaded via this mode unless they are explicitly allowlisted by the user via `torch.serialization.add_safe_globals`. We recommend you start setting `weights_only=True` for any use case where you don't have full control of the loaded file. Please open an issue on GitHub for any issues related to this experimental feature.\n",
      "  multi_model.load_state_dict(torch.load(\"./model/bilstm_multi.pt\", map_location=device))\n",
      "C:\\Users\\kotav\\AppData\\Local\\Temp\\ipykernel_13492\\2563989612.py:91: FutureWarning: You are using `torch.load` with `weights_only=False` (the current default value), which uses the default pickle module implicitly. It is possible to construct malicious pickle data which will execute arbitrary code during unpickling (See https://github.com/pytorch/pytorch/blob/main/SECURITY.md#untrusted-models for more details). In a future release, the default value for `weights_only` will be flipped to `True`. This limits the functions that could be executed during unpickling. Arbitrary objects will no longer be allowed to be loaded via this mode unless they are explicitly allowlisted by the user via `torch.serialization.add_safe_globals`. We recommend you start setting `weights_only=True` for any use case where you don't have full control of the loaded file. Please open an issue on GitHub for any issues related to this experimental feature.\n",
      "  binary_model.load_state_dict(torch.load(\"./model/bilstm_binary_custom.pth\", map_location=device))\n"
     ]
    },
    {
     "name": "stdout",
     "output_type": "stream",
     "text": [
      "Running on local URL:  http://127.0.0.1:7864\n",
      "\n",
      "Could not create share link. Please check your internet connection or our status page: https://status.gradio.app.\n"
     ]
    },
    {
     "data": {
      "text/html": [
       "<div><iframe src=\"http://127.0.0.1:7864/\" width=\"100%\" height=\"500\" allow=\"autoplay; camera; microphone; clipboard-read; clipboard-write;\" frameborder=\"0\" allowfullscreen></iframe></div>"
      ],
      "text/plain": [
       "<IPython.core.display.HTML object>"
      ]
     },
     "metadata": {},
     "output_type": "display_data"
    },
    {
     "data": {
      "text/plain": []
     },
     "execution_count": 22,
     "metadata": {},
     "output_type": "execute_result"
    }
   ],
   "source": [
    "import torch\n",
    "import torch.nn as nn\n",
    "import pickle\n",
    "import gradio as gr\n",
    "from typing import Dict\n",
    "\n",
    "# --- Multi-Task Setup ---\n",
    "multi_token2idx = pickle.load(open(\"./model/token2idx_multi.pkl\", \"rb\"))\n",
    "multi_label2idx = pickle.load(open(\"./model/label2idx_multi.pkl\", \"rb\"))\n",
    "multi_idx2label = {v: k for k, v in multi_label2idx.items()}\n",
    "\n",
    "class MultiBiLSTM(nn.Module):\n",
    "    def __init__(self, vocab_size, tagset_size, embedding_dim=128, hidden_dim=256):\n",
    "        super(MultiBiLSTM, self).__init__()\n",
    "        self.embedding = nn.Embedding(vocab_size, embedding_dim, padding_idx=0)\n",
    "        self.lstm = nn.LSTM(embedding_dim, hidden_dim, batch_first=True, bidirectional=True)\n",
    "        self.norm = nn.LayerNorm(hidden_dim * 2)  # Adding LayerNorm\n",
    "        self.fc = nn.Linear(hidden_dim * 2, tagset_size)\n",
    "\n",
    "    def forward(self, x):\n",
    "        x = self.embedding(x)\n",
    "        lstm_out, _ = self.lstm(x)\n",
    "        lstm_out = self.norm(lstm_out)  # Applying LayerNorm\n",
    "        logits = self.fc(lstm_out)\n",
    "        return logits\n",
    "\n",
    "device = torch.device(\"cuda\" if torch.cuda.is_available() else \"cpu\")\n",
    "multi_model = MultiBiLSTM(len(multi_token2idx), len(multi_label2idx)).to(device)\n",
    "multi_model.load_state_dict(torch.load(\"./model/bilstm_multi.pt\", map_location=device))\n",
    "multi_model.eval()\n",
    "\n",
    "def multi_predict(sentence: str) -> Dict[str, str]:\n",
    "    words = sentence.strip().split()\n",
    "    token_ids = [multi_token2idx.get(word, 0) for word in words]\n",
    "    input_tensor = torch.tensor([token_ids], dtype=torch.long).to(device)\n",
    "    with torch.no_grad():\n",
    "        output = multi_model(input_tensor)\n",
    "        predictions = torch.argmax(output, dim=-1).cpu().numpy()[0]\n",
    "    predicted_labels = [multi_idx2label[idx] for idx in predictions]\n",
    "    return {word: label for word, label in zip(words, predicted_labels)}\n",
    "\n",
    "def multi_styled_output(sentence):\n",
    "    result = multi_predict(sentence)\n",
    "    html = \"\"\"\n",
    "    <div style='display: flex; flex-wrap: wrap; gap: 12px; padding: 20px; \n",
    "                background: #ffffff; border-radius: 12px; box-shadow: 0 4px 15px rgba(0,0,0,0.1);'>\n",
    "    \"\"\"\n",
    "    color_palette = [\n",
    "        \"#48cd4a\", \"#cb4f78\", \"#e97e0b\", \"#48f061\", \"#8ff1df\",\n",
    "        \"#9ead18\", \"#27e57b\", \"#e051c0\", \"#7add51\", \"#dab304\", \"#1dfafb\"\n",
    "    ]\n",
    "    label_list = sorted(set(label for label in multi_idx2label.values() if label != \"O\"))\n",
    "    label_colors = {label: color_palette[i % len(color_palette)] for i, label in enumerate(label_list)}\n",
    "    label_colors[\"O\"] = \"#eef2f6\"\n",
    "\n",
    "    for word, tag in result.items():\n",
    "        color = label_colors.get(tag, \"#eef2f6\")\n",
    "        html += f\"\"\"\n",
    "        <span style='padding: 8px 14px; border-radius: 10px; background: {color}; \n",
    "                    color: {'#fff' if tag != 'O' else '#2c3e50'}; font-family: 'Roboto', sans-serif; \n",
    "                    font-size: 15px; box-shadow: 0 2px 8px rgba(0,0,0,0.1); \n",
    "                    transition: transform 0.2s ease;'>\n",
    "            {word} <sub style='font-size: 11px; margin-left: 5px; opacity: 0.9;'>{tag}</sub>\n",
    "        </span>\n",
    "        \"\"\"\n",
    "    html += \"</div>\"\n",
    "    return html\n",
    "\n",
    "\n",
    "# --- Binary Classifier Setup ---\n",
    "binary_vocab = pickle.load(open(\"./model/binary_vocab.pkl\", \"rb\"))\n",
    "binary_token2idx = binary_vocab['token2idx']\n",
    "\n",
    "class BinaryBiLSTMClassifier(nn.Module):\n",
    "    def __init__(self, vocab_size, embed_dim, hidden_dim, output_dim):\n",
    "        super(BinaryBiLSTMClassifier, self).__init__()\n",
    "        self.embedding = nn.Embedding(vocab_size, embed_dim, padding_idx=0)\n",
    "        self.lstm = nn.LSTM(embed_dim, hidden_dim, bidirectional=True, batch_first=True)\n",
    "        self.dropout = nn.Dropout(0.3)\n",
    "        self.fc = nn.Linear(hidden_dim * 2, output_dim)\n",
    "        self.sigmoid = nn.Sigmoid()\n",
    "\n",
    "    def forward(self, x):\n",
    "        x = self.embedding(x)\n",
    "        lstm_out, _ = self.lstm(x)\n",
    "        output = self.dropout(lstm_out[:, -1, :])\n",
    "        output = self.fc(output)\n",
    "        return self.sigmoid(output)\n",
    "\n",
    "binary_model = BinaryBiLSTMClassifier(len(binary_token2idx), embed_dim=128, hidden_dim=64, output_dim=1).to(device)\n",
    "binary_model.load_state_dict(torch.load(\"./model/bilstm_binary_custom.pth\", map_location=device))\n",
    "binary_model.eval()\n",
    "\n",
    "def binary_predict(sentence):\n",
    "    tokens = sentence.strip().split()\n",
    "    token_ids = [binary_token2idx.get(tok, 0) for tok in tokens]\n",
    "    input_tensor = torch.tensor([token_ids], dtype=torch.long).to(device)\n",
    "    with torch.no_grad():\n",
    "        output = binary_model(input_tensor).squeeze()\n",
    "    return \" MAN MADE\" if output.item() < 0.5 else \" NATURAL\"\n",
    "\n",
    "# --- Combined Gradio App ---\n",
    "custom_css = \"\"\"\n",
    "/* Full-screen layout */\n",
    "body, .gradio-container {\n",
    "    background: linear-gradient(135deg, #74ebd5 0%, #acb6e5 100%);\n",
    "    font-family: 'Roboto', sans-serif;\n",
    "    color: #2c3e50;\n",
    "    margin: 0;\n",
    "    padding: 0;\n",
    "    min-height: 100vh;\n",
    "    display: flex;\n",
    "    flex-direction: column;\n",
    "    overflow-x: hidden;\n",
    "}\n",
    "\n",
    "/* Main container */\n",
    ".container {\n",
    "    max-width: 1500px;\n",
    "    margin: 0 auto;\n",
    "    padding: 30px;\n",
    "    flex-grow: 1;\n",
    "    background: rgba(255, 255, 255, 0.9);\n",
    "    border-radius: 20px;\n",
    "    box-shadow: 0 10px 30px rgba(0,0,0,0.1);\n",
    "    margin-top: 20px;\n",
    "    margin-bottom: 20px;\n",
    "}\n",
    "\n",
    "/* Title and description */\n",
    "h1 {\n",
    "    color: #2c3e50;\n",
    "    text-align: center;\n",
    "    font-size: 2.5em;\n",
    "    margin-bottom: 10px;\n",
    "    font-weight: 700;\n",
    "    text-shadow: 0 2px 5px rgba(0,0,0,0.1);\n",
    "    animation: fadeIn 1s ease;\n",
    "}\n",
    ".description {\n",
    "    color: #636e72;\n",
    "    text-align: center;\n",
    "    font-size: 1.1em;\n",
    "    margin-bottom: 20px;\n",
    "    font-weight: 300;\n",
    "}\n",
    "\n",
    "/* Task buttons */\n",
    ".task-btn {\n",
    "    background: linear-gradient(to right, #6c5ce7, #a29bfe) !important;\n",
    "    color: white !important;\n",
    "    border-radius: 12px !important;\n",
    "    padding: 10px 20px !important;\n",
    "    font-size: 15px !important;\n",
    "    font-weight: 500;\n",
    "    border: none !important;\n",
    "    box-shadow: 0 4px 15px rgba(108, 92, 231, 0.3);\n",
    "    transition: transform 0.2s ease, box-shadow 0.2s ease;\n",
    "    margin: 5px;\n",
    "}\n",
    ".task-btn:hover {\n",
    "    transform: translateY(-2px);\n",
    "    box-shadow: 0 6px 20px rgba(108, 92, 231, 0.4);\n",
    "}\n",
    ".task-btn.active {\n",
    "    background: linear-gradient(to right, #e84393, #ff7675) !important;\n",
    "}\n",
    "\n",
    "/* Input area */\n",
    "textarea {\n",
    "    background: #fff !important;\n",
    "    border: 2px solid #dfe6e9 !important;\n",
    "    border-radius: 12px !important;\n",
    "    padding: 15px !important;\n",
    "    font-size: 15px !important;\n",
    "    box-shadow: 0 4px 10px rgba(0,0,0,0.05);\n",
    "    transition: border-color 0.3s ease, box-shadow 0.3s ease;\n",
    "}\n",
    "textarea:focus {\n",
    "    border-color: #6c5ce7 !important;\n",
    "    box-shadow: 0 4px 15px rgba(108, 92, 231, 0.2);\n",
    "}\n",
    "\n",
    "/* Submit buttons */\n",
    "button.submit-btn {\n",
    "    background: linear-gradient(to right, #6c5ce7, #a29bfe) !important;\n",
    "    color: white !important;\n",
    "    border-radius: 12px !important;\n",
    "    padding: 12px 25px !important;\n",
    "    font-size: 15px !important;\n",
    "    font-weight: 500;\n",
    "    border: none !important;\n",
    "    box-shadow: 0 4px 15px rgba(108, 92, 231, 0.3);\n",
    "    transition: transform 0.2s ease, box-shadow 0.2s ease;\n",
    "}\n",
    "button.submit-btn:hover {\n",
    "    transform: translateY(-2px);\n",
    "    box-shadow: 0 6px 20px rgba(108, 92, 231, 0.4);\n",
    "}\n",
    "\n",
    "/* Output area */\n",
    ".output-html, .output-text {\n",
    "    margin-top: 25px;\n",
    "    animation: slideUp 0.5s ease;\n",
    "}\n",
    "\n",
    "/* Example boxes */\n",
    ".example-box {\n",
    "    background: #ffffff;\n",
    "    border: 2px solid #dfe6e9;\n",
    "    border-radius: 10px;\n",
    "    padding: 10px 15px;\n",
    "    margin: 5px;\n",
    "    font-size: 13px;\n",
    "    color: #2c3e50;\n",
    "    cursor: pointer;\n",
    "    box-shadow: 0 2px 5px rgba(0,0,0,0.05);\n",
    "    transition: all 0.2s ease;\n",
    "    display: inline-block;\n",
    "}\n",
    ".example-box:hover {\n",
    "    border-color: #6c5ce7;\n",
    "    transform: translateY(-2px);\n",
    "    box-shadow: 0 4px 10px rgba(108, 92, 231, 0.2);\n",
    "}\n",
    "\n",
    "/* Tag hover effect */\n",
    "span[style*='padding: 8px 14px'] {\n",
    "    cursor: pointer;\n",
    "}\n",
    "span[style*='padding: 8px 14px']:hover {\n",
    "    transform: scale(1.05);\n",
    "}\n",
    "\n",
    "/* Animations */\n",
    "@keyframes fadeIn {\n",
    "    from { opacity: 0; }\n",
    "    to { opacity: 1; }\n",
    "}\n",
    "@keyframes slideUp {\n",
    "    from { transform: translateY(20px); opacity: 0; }\n",
    "    to { transform: translateY(0); opacity: 1; }\n",
    "}\n",
    "\"\"\"\n",
    "\n",
    "# Interface\n",
    "with gr.Blocks(css=custom_css) as demo:\n",
    "    active_task = gr.State(value=\"multi\")\n",
    "\n",
    "    gr.Markdown(\"\"\"\n",
    "    # Telugu Event Detection\n",
    "    <div class='description'>\n",
    "        Switch between multi-task tagging and binary classification with ease!\n",
    "    </div>\n",
    "    \"\"\")\n",
    "\n",
    "    with gr.Row():\n",
    "        multi_btn = gr.Button(\"Multi-Task Tagging\", elem_classes=[\"task-btn\"])\n",
    "        binary_btn = gr.Button(\"Binary Classification\", elem_classes=[\"task-btn\"])\n",
    "\n",
    "    # Multi-task UI\n",
    "    with gr.Group(visible=True) as multi_group:\n",
    "        with gr.Row():\n",
    "            with gr.Column(scale=1, min_width=700):\n",
    "                multi_input = gr.Textbox(\n",
    "                    label=\"Enter Your Telugu Sentence\",\n",
    "                    lines=2,\n",
    "                    placeholder=\"తెలుగు వాక్యం ఇక్కడ టైప్ చేయండి... (Type here)\",\n",
    "                )\n",
    "                multi_submit = gr.Button(\"Tag Now\", elem_classes=[\"submit-btn\"])\n",
    "                with gr.Row():\n",
    "                    gr.Markdown(\"**Try These:**\")\n",
    "                with gr.Row():\n",
    "                    for example in [\"\"\"రైల్వే స్టేషన్ వద్ద భారీ ప్రమాదం జరిగింది. దాదాపు 20 మంది గాయపడ్డారు. \n",
    "అగ్నిమాపక సిబ్బంది వచ్చి మంటలను అదుపు చేశారు. పోలీసులు ఘటనాస్థలానికి చేరుకున్నారు.\"\"\",\n",
    "        \"పిడుగు పడడంతో చెట్టు విరిగిపడింది.\",\n",
    "        \"బాంబు పేలుడు చోటుచేసుకుంది.\",\n",
    "        \"రైలు పట్టాలు తప్పింది.\"]:\n",
    "                        gr.Button(example, elem_classes=[\"example-box\"]).click(\n",
    "                            fn=lambda x=example: x,\n",
    "                            outputs=multi_input\n",
    "                        )\n",
    "            with gr.Column(scale=1, min_width=700):\n",
    "                multi_output = gr.HTML(label=\"Tagged Output\")\n",
    "\n",
    "    # Binary UI\n",
    "    with gr.Group(visible=False) as binary_group:\n",
    "        with gr.Row():\n",
    "            with gr.Column(scale=1, min_width=700):\n",
    "                binary_input = gr.Textbox(\n",
    "                    label=\"Enter Telugu Event Description\",\n",
    "                    lines=2,\n",
    "                    placeholder=\"తెలుగులో ఒక సంఘటనను ప్రవేశపెట్టండి... (Type here)\",\n",
    "                )\n",
    "                binary_submit = gr.Button(\"Classify Now\", elem_classes=[\"submit-btn\"])\n",
    "                with gr.Row():\n",
    "                    gr.Markdown(\"**Try These:**\")\n",
    "                with gr.Row():\n",
    "                    for example in [\"భూకంపం సంభవించింది.\", \"బాంబు పేలుడు చోటుచేసుకుంది.\",\"ఫ్యాక్టరీలో పేలుడు జరిగింది\",\"రైలు పట్టాలు తప్పి రైలు ప్రమాదం జరిగింది.\"]:\n",
    "                        gr.Button(example, elem_classes=[\"example-box\"]).click(\n",
    "                            fn=lambda x=example: x,\n",
    "                            outputs=binary_input\n",
    "                        )\n",
    "            with gr.Column(scale=1, min_width=700):\n",
    "                binary_output = gr.Textbox(label=\"Prediction\")\n",
    "\n",
    "    # Button click handlers\n",
    "    def set_multi_task(task):\n",
    "        return \"multi\", gr.update(visible=True), gr.update(visible=False)\n",
    "    \n",
    "    def set_binary_task(task):\n",
    "        return \"binary\", gr.update(visible=False), gr.update(visible=True)\n",
    "\n",
    "    multi_btn.click(\n",
    "        fn=set_multi_task,\n",
    "        inputs=active_task,\n",
    "        outputs=[active_task, multi_group, binary_group]\n",
    "    )\n",
    "    binary_btn.click(\n",
    "        fn=set_binary_task,\n",
    "        inputs=active_task,\n",
    "        outputs=[active_task, multi_group, binary_group]\n",
    "    )\n",
    "\n",
    "    # Submit handlers\n",
    "    multi_submit.click(\n",
    "        fn=multi_styled_output,\n",
    "        inputs=multi_input,\n",
    "        outputs=multi_output\n",
    "    )\n",
    "    binary_submit.click(\n",
    "        fn=binary_predict,\n",
    "        inputs=binary_input,\n",
    "        outputs=binary_output\n",
    "    )\n",
    "\n",
    "demo.launch(share=True)\n"
   ]
  },
  {
   "cell_type": "code",
   "execution_count": null,
   "metadata": {},
   "outputs": [],
   "source": []
  },
  {
   "cell_type": "code",
   "execution_count": null,
   "metadata": {},
   "outputs": [],
   "source": []
  }
 ],
 "metadata": {
  "kernelspec": {
   "display_name": "Python 3",
   "language": "python",
   "name": "python3"
  },
  "language_info": {
   "codemirror_mode": {
    "name": "ipython",
    "version": 3
   },
   "file_extension": ".py",
   "mimetype": "text/x-python",
   "name": "python",
   "nbconvert_exporter": "python",
   "pygments_lexer": "ipython3",
   "version": "3.9.10"
  }
 },
 "nbformat": 4,
 "nbformat_minor": 2
}

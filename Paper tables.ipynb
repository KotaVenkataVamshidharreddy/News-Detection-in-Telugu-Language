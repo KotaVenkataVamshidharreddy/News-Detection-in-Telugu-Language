{
 "cells": [
  {
   "cell_type": "code",
   "execution_count": 10,
   "metadata": {},
   "outputs": [],
   "source": [
    "import pandas as pd\n",
    "from pathlib import Path"
   ]
  },
  {
   "cell_type": "code",
   "execution_count": 11,
   "metadata": {},
   "outputs": [
    {
     "data": {
      "text/plain": [
       "[WindowsPath('data/processed/te/train.json')]"
      ]
     },
     "execution_count": 11,
     "metadata": {},
     "output_type": "execute_result"
    }
   ],
   "source": [
    "file_paths = list(Path(\"./data/processed/\").glob(\"./**/*.json\"))\n",
    "file_paths"
   ]
  },
  {
   "cell_type": "code",
   "execution_count": 12,
   "metadata": {},
   "outputs": [
    {
     "data": {
      "text/plain": [
       "('data', 'processed', 'te', 'train.json')"
      ]
     },
     "execution_count": 12,
     "metadata": {},
     "output_type": "execute_result"
    }
   ],
   "source": [
    "file_paths[0].parts"
   ]
  },
  {
   "cell_type": "code",
   "execution_count": 13,
   "metadata": {},
   "outputs": [],
   "source": [
    "counts = {}\n",
    "for file_path in file_paths:\n",
    "    _, _, lang, split = file_path.parts\n",
    "    split = split.split(\".\")[0]\n",
    "    counts[(lang, split)] = pd.read_json(file_path, orient=\"records\", lines=True).shape[0]"
   ]
  },
  {
   "cell_type": "code",
   "execution_count": 14,
   "metadata": {},
   "outputs": [
    {
     "data": {
      "text/html": [
       "<div>\n",
       "<style scoped>\n",
       "    .dataframe tbody tr th:only-of-type {\n",
       "        vertical-align: middle;\n",
       "    }\n",
       "\n",
       "    .dataframe tbody tr th {\n",
       "        vertical-align: top;\n",
       "    }\n",
       "\n",
       "    .dataframe thead th {\n",
       "        text-align: right;\n",
       "    }\n",
       "</style>\n",
       "<table border=\"1\" class=\"dataframe\">\n",
       "  <thead>\n",
       "    <tr style=\"text-align: right;\">\n",
       "      <th></th>\n",
       "      <th>lang</th>\n",
       "      <th>split</th>\n",
       "      <th>#docs</th>\n",
       "    </tr>\n",
       "  </thead>\n",
       "  <tbody>\n",
       "    <tr>\n",
       "      <th>0</th>\n",
       "      <td>te</td>\n",
       "      <td>train</td>\n",
       "      <td>2200</td>\n",
       "    </tr>\n",
       "  </tbody>\n",
       "</table>\n",
       "</div>"
      ],
      "text/plain": [
       "  lang  split  #docs\n",
       "0   te  train   2200"
      ]
     },
     "execution_count": 14,
     "metadata": {},
     "output_type": "execute_result"
    }
   ],
   "source": [
    "df_t = pd.DataFrame(\n",
    "    [k + (v,) for k,v in counts.items()],\n",
    "    columns=[\"lang\", \"split\", \"#docs\"]\n",
    ")\n",
    "df_t"
   ]
  },
  {
   "cell_type": "code",
   "execution_count": 15,
   "metadata": {},
   "outputs": [
    {
     "data": {
      "text/html": [
       "<div>\n",
       "<style scoped>\n",
       "    .dataframe tbody tr th:only-of-type {\n",
       "        vertical-align: middle;\n",
       "    }\n",
       "\n",
       "    .dataframe tbody tr th {\n",
       "        vertical-align: top;\n",
       "    }\n",
       "\n",
       "    .dataframe thead th {\n",
       "        text-align: right;\n",
       "    }\n",
       "</style>\n",
       "<table border=\"1\" class=\"dataframe\">\n",
       "  <thead>\n",
       "    <tr style=\"text-align: right;\">\n",
       "      <th>lang</th>\n",
       "      <th>te</th>\n",
       "    </tr>\n",
       "    <tr>\n",
       "      <th>split</th>\n",
       "      <th></th>\n",
       "    </tr>\n",
       "  </thead>\n",
       "  <tbody>\n",
       "    <tr>\n",
       "      <th>train</th>\n",
       "      <td>2200</td>\n",
       "    </tr>\n",
       "  </tbody>\n",
       "</table>\n",
       "</div>"
      ],
      "text/plain": [
       "lang     te\n",
       "split      \n",
       "train  2200"
      ]
     },
     "execution_count": 15,
     "metadata": {},
     "output_type": "execute_result"
    }
   ],
   "source": [
    "df_t.pivot(index=\"split\", columns=\"lang\", values=\"#docs\")"
   ]
  },
  {
   "cell_type": "code",
   "execution_count": 16,
   "metadata": {},
   "outputs": [
    {
     "name": "stdout",
     "output_type": "stream",
     "text": [
      "\\begin{tabular}{lr}\n",
      "\\toprule\n",
      "lang &    te \\\\\n",
      "split &       \\\\\n",
      "\\midrule\n",
      "train &  2200 \\\\\n",
      "\\bottomrule\n",
      "\\end{tabular}\n",
      "\n"
     ]
    },
    {
     "name": "stderr",
     "output_type": "stream",
     "text": [
      "C:\\Users\\kotav\\AppData\\Local\\Temp\\ipykernel_2668\\1327903580.py:1: FutureWarning: In future versions `DataFrame.to_latex` is expected to utilise the base implementation of `Styler.to_latex` for formatting and rendering. The arguments signature may therefore change. It is recommended instead to use `DataFrame.style.to_latex` which also contains additional functionality.\n",
      "  print(df_t.pivot(index=\"split\", columns=\"lang\", values=\"#docs\").to_latex())\n"
     ]
    }
   ],
   "source": [
    "print(df_t.pivot(index=\"split\", columns=\"lang\", values=\"#docs\").to_latex())"
   ]
  },
  {
   "cell_type": "code",
   "execution_count": 18,
   "metadata": {},
   "outputs": [
    {
     "data": {
      "text/plain": [
       "tokens    [10, చనిపోతారు, ఇన్, ఈజిప్ట్, చర్చి, దాడి., పద...\n",
       "tags      [B-CASUALTIES-ARG, I-CASUALTIES-ARG, O, B-PLAC...\n",
       "Name: 3, dtype: object"
      ]
     },
     "execution_count": 18,
     "metadata": {},
     "output_type": "execute_result"
    }
   ],
   "source": [
    "row = pd.read_json(file_paths[0], orient=\"records\", lines=True).head().loc[3,[\"tokens\", \"tags\"]]\n",
    "row"
   ]
  },
  {
   "cell_type": "code",
   "execution_count": 19,
   "metadata": {},
   "outputs": [
    {
     "name": "stdout",
     "output_type": "stream",
     "text": [
      "10/B-CASUALTIES-ARG చనిపోతారు/I-CASUALTIES-ARG ఇన్/O ఈజిప్ట్/B-PLACE-ARG చర్చి/I-PLACE-ARG దాడి./B-MAN_MADE_EVENT.TERRORIST_ATTACK పది/B-CASUALTIES-ARG వ్యక్తులు/I-CASUALTIES-ARG ఉన్నారు/I-CASUALTIES-ARG చంపబడింది/I-CASUALTIES-ARG మరియు/I-CASUALTIES-ARG ఎనిమిది/I-CASUALTIES-ARG ఇతరులు/I-CASUALTIES-ARG గాయపడ్డారు/I-CASUALTIES-ARG ఇన్/O ఎ/O ఉగ్రవాది/B-MAN_MADE_EVENT.TERRORIST_ATTACK దాడి/I-MAN_MADE_EVENT.TERRORIST_ATTACK ఆన్/O ఎ/O చర్చి/B-PLACE-ARG ఇన్/I-PLACE-ARG ఈజిప్ట్/I-PLACE-ARG మూలధనం/I-PLACE-ARG ఈ రోజు,/B-TIME-ARG ది/O ప్రభుత్వం/O అన్నారు./O ఎ/O ఆరోగ్యం/O మంత్రిత్వ శాఖ/O ప్రతినిధి/O అన్నారు/O ది/O దాడి/B-MAN_MADE_EVENT.TERRORIST_ATTACK టేక్/O స్థలం/O ఎప్పుడు/O ముష్కరులు/B-PARTICIPANT-ARG ఆన్/O ఎ/O మోటారుబైక్/O తెరిచింది/B-MAN_MADE_EVENT.TERRORIST_ATTACK అగ్ని/I-MAN_MADE_EVENT.TERRORIST_ATTACK వెలుపల/O మార్/B-PLACE-ARG మినా/I-PLACE-ARG చర్చి/I-PLACE-ARG ఇన్/I-PLACE-ARG హెల్వాన్/I-PLACE-ARG ప్రాంతం./I-PLACE-ARG వద్ద/B-CASUALTIES-ARG కనీసం/I-CASUALTIES-ARG 10/I-CASUALTIES-ARG వ్యక్తులు,/I-CASUALTIES-ARG సహా/I-CASUALTIES-ARG ఎనిమిది/I-CASUALTIES-ARG కాప్టిక్/I-CASUALTIES-ARG క్రైస్తవులు,/I-CASUALTIES-ARG ఉన్నారు/I-CASUALTIES-ARG చంపబడింది/I-CASUALTIES-ARG ఇన్/O ది/O షూటౌట్/B-MAN_MADE_EVENT.TERRORIST_ATTACK వెలుపల/O ది/O దక్షిణ/B-PLACE-ARG కైరో/I-PLACE-ARG చర్చి,/I-PLACE-ARG అతను/O అన్న/O కలుపుతోంది,/O ఒకటి/O ముష్కరుడు/B-CASUALTIES-ARG ఉంది/I-CASUALTIES-ARG షాట్/I-CASUALTIES-ARG చనిపోయిన/I-CASUALTIES-ARG as/O ఉంది/O ఎ/O భద్రత/O అధికారి./O ది/O మంత్రిత్వ శాఖ/O అన్నారు/O రెండు/O యొక్క/O ది/O గాయపడ్డారు/O ఉన్నాయి/O మహిళలు,/O కలుపుతోంది/O అది/O ఉద్యోగం/O 10/O అంబులెన్సులు/O to/O బదిలీ/O ది/O గాయపడ్డారు/O to/O ఆస్పత్రులు./O ప్రభుత్వ భాగస్వామ్యం/O మెనా/O వార్తలు/O ఏజెన్సీ/O నివేదించబడింది/O ఆ/O ది/O ఇతర/O ముష్కరుడు/O పారిపోయారు/O ది/O దృశ్యం./O అక్కడ/O ఉంది/O లేదు/O వెంటనే/O దావా/O యొక్క/O బాధ్యత/O కోసం/O ది/O దాడి./B-MAN_MADE_EVENT.TERRORIST_ATTACK ది/O దాడి/B-MAN_MADE_EVENT.TERRORIST_ATTACK వస్తుంది/O రోజులు/O ముందు/O ది/O కాప్టిక్/O వేడుక/O యొక్క/O క్రొత్తది/O సంవత్సరం/O మరియు/O ఆర్థడాక్స్/O క్రిస్మస్/O రోజు/O ఆన్/O జనవరి/O 7./O -/O Pti/O\n"
     ]
    }
   ],
   "source": [
    "print(\" \".join(f\"{token}/{tag}\" for token, tag in zip(row.tokens, row.tags)))"
   ]
  },
  {
   "cell_type": "code",
   "execution_count": 20,
   "metadata": {},
   "outputs": [],
   "source": [
    "from spacy import displacy"
   ]
  },
  {
   "cell_type": "code",
   "execution_count": 21,
   "metadata": {},
   "outputs": [],
   "source": [
    "def split_tag(tag):\n",
    "    return tuple(tag.split(\"-\", 1)) if tag != \"O\" else (tag, None)\n",
    "\n",
    "def extract_entities(tags):\n",
    "    tags = list(tags)\n",
    "    curr_entity = []\n",
    "    entities = []\n",
    "    for i, tag in enumerate(tags + [\"O\"]):\n",
    "        # Add dummy tag in end to ensure the last entity is added to entities\n",
    "        boundary, label = split_tag(tag)\n",
    "        if curr_entity:\n",
    "            # Exit entity\n",
    "            if boundary in {\"B\", \"O\"} or label != curr_entity[-1][1]:\n",
    "                start = i - len(curr_entity)\n",
    "                end = i\n",
    "                entity_label = curr_entity[-1][1]\n",
    "                entities.append((entity_label, start, end))\n",
    "                curr_entity = []\n",
    "            elif boundary == \"I\":\n",
    "                curr_entity.append((boundary, label))\n",
    "        if boundary == \"B\":\n",
    "            # Enter or inside entity\n",
    "            assert not curr_entity, f\"Entity should be empty. Found: {curr_entity}\"\n",
    "            curr_entity.append((boundary, label))\n",
    "    return entities\n",
    "\n",
    "\n",
    "def get_entity_info(bio_labels, tokens, text=None, spans=None):\n",
    "    entities_info = extract_entities(bio_labels)\n",
    "    entities = []        \n",
    "    for label, start, end in entities_info:\n",
    "        entity_phrase = None\n",
    "        start_char_idx = None\n",
    "        end_char_idx = None\n",
    "        if text and spans:\n",
    "            start_char_idx = spans[start][0]\n",
    "            end_char_idx = spans[end-1][1]\n",
    "            entity_phrase = text[start_char_idx:end_char_idx]\n",
    "        entities.append(dict(\n",
    "            tokens=tokens[start:end],\n",
    "            label=label,\n",
    "            start=start,\n",
    "            start_char_idx=start_char_idx,\n",
    "            end_char_idx=end_char_idx,\n",
    "            end=end,\n",
    "            entity_phrase=entity_phrase))\n",
    "    return entities"
   ]
  },
  {
   "cell_type": "code",
   "execution_count": 22,
   "metadata": {},
   "outputs": [],
   "source": [
    "from IPython.display import display, display_html, HTML"
   ]
  },
  {
   "cell_type": "code",
   "execution_count": 23,
   "metadata": {},
   "outputs": [],
   "source": [
    "def render(tokens, tags):\n",
    "    text = \" \".join(row.tokens)\n",
    "    spans = []\n",
    "    start_char_idx = 0\n",
    "    for token in tokens:\n",
    "        spans.append((start_char_idx, start_char_idx+len(token)))\n",
    "        start_char_idx += len(token) + 1 # For space\n",
    "    entity_info = get_entity_info(tags, tokens, text, spans)\n",
    "    unique_labels = set([e[\"label\"] for e in entity_info])\n",
    "    pallet = \"#48cd4a,#cb4f78,#e97e0b,#48f061,#8ff1df,#9ead18,#27e57b,#e051c0,#7add51,#dab304,#1dfafb\".split(\",\")\n",
    "    colors = {\n",
    "        l:c for l,c in zip(unique_labels, pallet)\n",
    "    }\n",
    "    \n",
    "    doc = {\n",
    "        \"text\": text,\n",
    "        \"ents\": [\n",
    "            {\"label\": e[\"label\"], \"start\": e[\"start_char_idx\"], \"end\": e[\"end_char_idx\"]}\n",
    "            for e in entity_info\n",
    "        ]\n",
    "    }\n",
    "    bio_text = \" \".join(f\"{token}/{tag}\" for token, tag in zip(row.tokens, row.tags))\n",
    "    display(HTML(\"<h3>Highlighted Entities</h3>\"))\n",
    "    displacy.render(doc, style=\"ent\", manual=True, options=dict(colors=colors))\n",
    "    display(HTML(f\"<h3>BIO Format</h3><pre>{bio_text}</pre>\"))"
   ]
  },
  {
   "cell_type": "code",
   "execution_count": 24,
   "metadata": {},
   "outputs": [
    {
     "data": {
      "text/html": [
       "<h3>Highlighted Entities</h3>"
      ],
      "text/plain": [
       "<IPython.core.display.HTML object>"
      ]
     },
     "metadata": {},
     "output_type": "display_data"
    },
    {
     "data": {
      "text/html": [
       "<span class=\"tex2jax_ignore\"><div class=\"entities\" style=\"line-height: 2.5; direction: ltr\">\n",
       "<mark class=\"entity\" style=\"background: #e97e0b; padding: 0.45em 0.6em; margin: 0 0.25em; line-height: 1; border-radius: 0.35em;\">\n",
       "    10 చనిపోతారు\n",
       "    <span style=\"font-size: 0.8em; font-weight: bold; line-height: 1; border-radius: 0.35em; vertical-align: middle; margin-left: 0.5rem\">CASUALTIES-ARG</span>\n",
       "</mark>\n",
       " ఇన్ \n",
       "<mark class=\"entity\" style=\"background: #cb4f78; padding: 0.45em 0.6em; margin: 0 0.25em; line-height: 1; border-radius: 0.35em;\">\n",
       "    ఈజిప్ట్ చర్చి\n",
       "    <span style=\"font-size: 0.8em; font-weight: bold; line-height: 1; border-radius: 0.35em; vertical-align: middle; margin-left: 0.5rem\">PLACE-ARG</span>\n",
       "</mark>\n",
       " \n",
       "<mark class=\"entity\" style=\"background: #48cd4a; padding: 0.45em 0.6em; margin: 0 0.25em; line-height: 1; border-radius: 0.35em;\">\n",
       "    దాడి.\n",
       "    <span style=\"font-size: 0.8em; font-weight: bold; line-height: 1; border-radius: 0.35em; vertical-align: middle; margin-left: 0.5rem\">MAN_MADE_EVENT.TERRORIST_ATTACK</span>\n",
       "</mark>\n",
       " \n",
       "<mark class=\"entity\" style=\"background: #e97e0b; padding: 0.45em 0.6em; margin: 0 0.25em; line-height: 1; border-radius: 0.35em;\">\n",
       "    పది వ్యక్తులు ఉన్నారు చంపబడింది మరియు ఎనిమిది ఇతరులు గాయపడ్డారు\n",
       "    <span style=\"font-size: 0.8em; font-weight: bold; line-height: 1; border-radius: 0.35em; vertical-align: middle; margin-left: 0.5rem\">CASUALTIES-ARG</span>\n",
       "</mark>\n",
       " ఇన్ ఎ \n",
       "<mark class=\"entity\" style=\"background: #48cd4a; padding: 0.45em 0.6em; margin: 0 0.25em; line-height: 1; border-radius: 0.35em;\">\n",
       "    ఉగ్రవాది దాడి\n",
       "    <span style=\"font-size: 0.8em; font-weight: bold; line-height: 1; border-radius: 0.35em; vertical-align: middle; margin-left: 0.5rem\">MAN_MADE_EVENT.TERRORIST_ATTACK</span>\n",
       "</mark>\n",
       " ఆన్ ఎ \n",
       "<mark class=\"entity\" style=\"background: #cb4f78; padding: 0.45em 0.6em; margin: 0 0.25em; line-height: 1; border-radius: 0.35em;\">\n",
       "    చర్చి ఇన్ ఈజిప్ట్ మూలధనం\n",
       "    <span style=\"font-size: 0.8em; font-weight: bold; line-height: 1; border-radius: 0.35em; vertical-align: middle; margin-left: 0.5rem\">PLACE-ARG</span>\n",
       "</mark>\n",
       " \n",
       "<mark class=\"entity\" style=\"background: #48f061; padding: 0.45em 0.6em; margin: 0 0.25em; line-height: 1; border-radius: 0.35em;\">\n",
       "    ఈ రోజు,\n",
       "    <span style=\"font-size: 0.8em; font-weight: bold; line-height: 1; border-radius: 0.35em; vertical-align: middle; margin-left: 0.5rem\">TIME-ARG</span>\n",
       "</mark>\n",
       " ది ప్రభుత్వం అన్నారు. ఎ ఆరోగ్యం మంత్రిత్వ శాఖ ప్రతినిధి అన్నారు ది \n",
       "<mark class=\"entity\" style=\"background: #48cd4a; padding: 0.45em 0.6em; margin: 0 0.25em; line-height: 1; border-radius: 0.35em;\">\n",
       "    దాడి\n",
       "    <span style=\"font-size: 0.8em; font-weight: bold; line-height: 1; border-radius: 0.35em; vertical-align: middle; margin-left: 0.5rem\">MAN_MADE_EVENT.TERRORIST_ATTACK</span>\n",
       "</mark>\n",
       " టేక్ స్థలం ఎప్పుడు \n",
       "<mark class=\"entity\" style=\"background: #8ff1df; padding: 0.45em 0.6em; margin: 0 0.25em; line-height: 1; border-radius: 0.35em;\">\n",
       "    ముష్కరులు\n",
       "    <span style=\"font-size: 0.8em; font-weight: bold; line-height: 1; border-radius: 0.35em; vertical-align: middle; margin-left: 0.5rem\">PARTICIPANT-ARG</span>\n",
       "</mark>\n",
       " ఆన్ ఎ మోటారుబైక్ \n",
       "<mark class=\"entity\" style=\"background: #48cd4a; padding: 0.45em 0.6em; margin: 0 0.25em; line-height: 1; border-radius: 0.35em;\">\n",
       "    తెరిచింది అగ్ని\n",
       "    <span style=\"font-size: 0.8em; font-weight: bold; line-height: 1; border-radius: 0.35em; vertical-align: middle; margin-left: 0.5rem\">MAN_MADE_EVENT.TERRORIST_ATTACK</span>\n",
       "</mark>\n",
       " వెలుపల \n",
       "<mark class=\"entity\" style=\"background: #cb4f78; padding: 0.45em 0.6em; margin: 0 0.25em; line-height: 1; border-radius: 0.35em;\">\n",
       "    మార్ మినా చర్చి ఇన్ హెల్వాన్ ప్రాంతం.\n",
       "    <span style=\"font-size: 0.8em; font-weight: bold; line-height: 1; border-radius: 0.35em; vertical-align: middle; margin-left: 0.5rem\">PLACE-ARG</span>\n",
       "</mark>\n",
       " \n",
       "<mark class=\"entity\" style=\"background: #e97e0b; padding: 0.45em 0.6em; margin: 0 0.25em; line-height: 1; border-radius: 0.35em;\">\n",
       "    వద్ద కనీసం 10 వ్యక్తులు, సహా ఎనిమిది కాప్టిక్ క్రైస్తవులు, ఉన్నారు చంపబడింది\n",
       "    <span style=\"font-size: 0.8em; font-weight: bold; line-height: 1; border-radius: 0.35em; vertical-align: middle; margin-left: 0.5rem\">CASUALTIES-ARG</span>\n",
       "</mark>\n",
       " ఇన్ ది \n",
       "<mark class=\"entity\" style=\"background: #48cd4a; padding: 0.45em 0.6em; margin: 0 0.25em; line-height: 1; border-radius: 0.35em;\">\n",
       "    షూటౌట్\n",
       "    <span style=\"font-size: 0.8em; font-weight: bold; line-height: 1; border-radius: 0.35em; vertical-align: middle; margin-left: 0.5rem\">MAN_MADE_EVENT.TERRORIST_ATTACK</span>\n",
       "</mark>\n",
       " వెలుపల ది \n",
       "<mark class=\"entity\" style=\"background: #cb4f78; padding: 0.45em 0.6em; margin: 0 0.25em; line-height: 1; border-radius: 0.35em;\">\n",
       "    దక్షిణ కైరో చర్చి,\n",
       "    <span style=\"font-size: 0.8em; font-weight: bold; line-height: 1; border-radius: 0.35em; vertical-align: middle; margin-left: 0.5rem\">PLACE-ARG</span>\n",
       "</mark>\n",
       " అతను అన్న కలుపుతోంది, ఒకటి \n",
       "<mark class=\"entity\" style=\"background: #e97e0b; padding: 0.45em 0.6em; margin: 0 0.25em; line-height: 1; border-radius: 0.35em;\">\n",
       "    ముష్కరుడు ఉంది షాట్ చనిపోయిన\n",
       "    <span style=\"font-size: 0.8em; font-weight: bold; line-height: 1; border-radius: 0.35em; vertical-align: middle; margin-left: 0.5rem\">CASUALTIES-ARG</span>\n",
       "</mark>\n",
       " as ఉంది ఎ భద్రత అధికారి. ది మంత్రిత్వ శాఖ అన్నారు రెండు యొక్క ది గాయపడ్డారు ఉన్నాయి మహిళలు, కలుపుతోంది అది ఉద్యోగం 10 అంబులెన్సులు to బదిలీ ది గాయపడ్డారు to ఆస్పత్రులు. ప్రభుత్వ భాగస్వామ్యం మెనా వార్తలు ఏజెన్సీ నివేదించబడింది ఆ ది ఇతర ముష్కరుడు పారిపోయారు ది దృశ్యం. అక్కడ ఉంది లేదు వెంటనే దావా యొక్క బాధ్యత కోసం ది \n",
       "<mark class=\"entity\" style=\"background: #48cd4a; padding: 0.45em 0.6em; margin: 0 0.25em; line-height: 1; border-radius: 0.35em;\">\n",
       "    దాడి.\n",
       "    <span style=\"font-size: 0.8em; font-weight: bold; line-height: 1; border-radius: 0.35em; vertical-align: middle; margin-left: 0.5rem\">MAN_MADE_EVENT.TERRORIST_ATTACK</span>\n",
       "</mark>\n",
       " ది \n",
       "<mark class=\"entity\" style=\"background: #48cd4a; padding: 0.45em 0.6em; margin: 0 0.25em; line-height: 1; border-radius: 0.35em;\">\n",
       "    దాడి\n",
       "    <span style=\"font-size: 0.8em; font-weight: bold; line-height: 1; border-radius: 0.35em; vertical-align: middle; margin-left: 0.5rem\">MAN_MADE_EVENT.TERRORIST_ATTACK</span>\n",
       "</mark>\n",
       " వస్తుంది రోజులు ముందు ది కాప్టిక్ వేడుక యొక్క క్రొత్తది సంవత్సరం మరియు ఆర్థడాక్స్ క్రిస్మస్ రోజు ఆన్ జనవరి 7. - Pti</div></span>"
      ],
      "text/plain": [
       "<IPython.core.display.HTML object>"
      ]
     },
     "metadata": {},
     "output_type": "display_data"
    },
    {
     "data": {
      "text/html": [
       "<h3>BIO Format</h3><pre>10/B-CASUALTIES-ARG చనిపోతారు/I-CASUALTIES-ARG ఇన్/O ఈజిప్ట్/B-PLACE-ARG చర్చి/I-PLACE-ARG దాడి./B-MAN_MADE_EVENT.TERRORIST_ATTACK పది/B-CASUALTIES-ARG వ్యక్తులు/I-CASUALTIES-ARG ఉన్నారు/I-CASUALTIES-ARG చంపబడింది/I-CASUALTIES-ARG మరియు/I-CASUALTIES-ARG ఎనిమిది/I-CASUALTIES-ARG ఇతరులు/I-CASUALTIES-ARG గాయపడ్డారు/I-CASUALTIES-ARG ఇన్/O ఎ/O ఉగ్రవాది/B-MAN_MADE_EVENT.TERRORIST_ATTACK దాడి/I-MAN_MADE_EVENT.TERRORIST_ATTACK ఆన్/O ఎ/O చర్చి/B-PLACE-ARG ఇన్/I-PLACE-ARG ఈజిప్ట్/I-PLACE-ARG మూలధనం/I-PLACE-ARG ఈ రోజు,/B-TIME-ARG ది/O ప్రభుత్వం/O అన్నారు./O ఎ/O ఆరోగ్యం/O మంత్రిత్వ శాఖ/O ప్రతినిధి/O అన్నారు/O ది/O దాడి/B-MAN_MADE_EVENT.TERRORIST_ATTACK టేక్/O స్థలం/O ఎప్పుడు/O ముష్కరులు/B-PARTICIPANT-ARG ఆన్/O ఎ/O మోటారుబైక్/O తెరిచింది/B-MAN_MADE_EVENT.TERRORIST_ATTACK అగ్ని/I-MAN_MADE_EVENT.TERRORIST_ATTACK వెలుపల/O మార్/B-PLACE-ARG మినా/I-PLACE-ARG చర్చి/I-PLACE-ARG ఇన్/I-PLACE-ARG హెల్వాన్/I-PLACE-ARG ప్రాంతం./I-PLACE-ARG వద్ద/B-CASUALTIES-ARG కనీసం/I-CASUALTIES-ARG 10/I-CASUALTIES-ARG వ్యక్తులు,/I-CASUALTIES-ARG సహా/I-CASUALTIES-ARG ఎనిమిది/I-CASUALTIES-ARG కాప్టిక్/I-CASUALTIES-ARG క్రైస్తవులు,/I-CASUALTIES-ARG ఉన్నారు/I-CASUALTIES-ARG చంపబడింది/I-CASUALTIES-ARG ఇన్/O ది/O షూటౌట్/B-MAN_MADE_EVENT.TERRORIST_ATTACK వెలుపల/O ది/O దక్షిణ/B-PLACE-ARG కైరో/I-PLACE-ARG చర్చి,/I-PLACE-ARG అతను/O అన్న/O కలుపుతోంది,/O ఒకటి/O ముష్కరుడు/B-CASUALTIES-ARG ఉంది/I-CASUALTIES-ARG షాట్/I-CASUALTIES-ARG చనిపోయిన/I-CASUALTIES-ARG as/O ఉంది/O ఎ/O భద్రత/O అధికారి./O ది/O మంత్రిత్వ శాఖ/O అన్నారు/O రెండు/O యొక్క/O ది/O గాయపడ్డారు/O ఉన్నాయి/O మహిళలు,/O కలుపుతోంది/O అది/O ఉద్యోగం/O 10/O అంబులెన్సులు/O to/O బదిలీ/O ది/O గాయపడ్డారు/O to/O ఆస్పత్రులు./O ప్రభుత్వ భాగస్వామ్యం/O మెనా/O వార్తలు/O ఏజెన్సీ/O నివేదించబడింది/O ఆ/O ది/O ఇతర/O ముష్కరుడు/O పారిపోయారు/O ది/O దృశ్యం./O అక్కడ/O ఉంది/O లేదు/O వెంటనే/O దావా/O యొక్క/O బాధ్యత/O కోసం/O ది/O దాడి./B-MAN_MADE_EVENT.TERRORIST_ATTACK ది/O దాడి/B-MAN_MADE_EVENT.TERRORIST_ATTACK వస్తుంది/O రోజులు/O ముందు/O ది/O కాప్టిక్/O వేడుక/O యొక్క/O క్రొత్తది/O సంవత్సరం/O మరియు/O ఆర్థడాక్స్/O క్రిస్మస్/O రోజు/O ఆన్/O జనవరి/O 7./O -/O Pti/O</pre>"
      ],
      "text/plain": [
       "<IPython.core.display.HTML object>"
      ]
     },
     "metadata": {},
     "output_type": "display_data"
    }
   ],
   "source": [
    "render(row.tokens, row.tags)"
   ]
  },
  {
   "cell_type": "code",
   "execution_count": null,
   "metadata": {},
   "outputs": [],
   "source": []
  }
 ],
 "metadata": {
  "kernelspec": {
   "display_name": "Python 3",
   "language": "python",
   "name": "python3"
  },
  "language_info": {
   "codemirror_mode": {
    "name": "ipython",
    "version": 3
   },
   "file_extension": ".py",
   "mimetype": "text/x-python",
   "name": "python",
   "nbconvert_exporter": "python",
   "pygments_lexer": "ipython3",
   "version": "3.9.10"
  }
 },
 "nbformat": 4,
 "nbformat_minor": 4
}
